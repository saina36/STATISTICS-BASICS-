{
  "nbformat": 4,
  "nbformat_minor": 0,
  "metadata": {
    "colab": {
      "provenance": []
    },
    "kernelspec": {
      "name": "python3",
      "display_name": "Python 3"
    },
    "language_info": {
      "name": "python"
    }
  },
  "cells": [
    {
      "cell_type": "markdown",
      "source": [
        "# **Statistics Basics**\n",
        "# **Assignment Questions-PWSKILLS**\n",
        "\n",
        "1. What is statistics, and why is it important?\n",
        "\n",
        "Statistics is the study of data, how we collect it, analyze it, interpret it, and present it. It's important because it\n",
        "helps us understand patterns, make decisions, and solve problems in everyday life, like figuring out trends in\n",
        "sales or predicting the weather.\n",
        "\n",
        "\n",
        "2. What are the two main types of statistics?\n",
        "\n",
        "The two main types are:\n",
        "- Descriptive Statistics, which focuses on summarizing data (e.g., calculating the average marks in a class)\n",
        "- Inferential Statistics, which involves making predictions about a larger group based on a smaller sample(e.g., predicting election results using a survey).\n",
        "\n",
        "\n",
        "3. What are descriptive statistics?\n",
        "\n",
        "Descriptive statistics is all about organizing and summarizing data.\n",
        "\n",
        "For example, instead of looking atindividual test scores of a class, you might calculate the average score or find out the highest and lowest\n",
        "scores.\n",
        "\n",
        "\n",
        "4. What is inferential statistics?\n",
        "\n",
        "Inferential statistics lets you make guesses about a population based on a smaller sample.\n",
        "\n",
        "For example, if you survey 1,000 people in a city about their favorite restaurant, inferential statistics helps you estimate the\n",
        "preferences of the entire city's population.\n",
        "\n",
        "\n",
        "5. What is sampling in statistics?\n",
        "\n",
        " Sampling is when you select a small group (sample) from a larger group (population) to study. It’s like tasting a spoonful of soup to decide if the whole pot needs more salt.\n",
        "\n",
        "\n",
        "6. What are the different types of sampling methods?\n",
        "\n",
        "There are several types of sampling\n",
        "- Random Sampling, where everyone has an equal chance of being selected\n",
        "- Stratified Sampling, where the population is divided into groups, and samples are taken from each group\n",
        "- Systematic Sampling, where you pick every nth person\n",
        "- Cluster Sampling, where you randomly select entire groups rather than individuals.\n",
        "\n",
        "\n",
        "7. What is the difference between random and non-random sampling?\n",
        "\n",
        "In random sampling, everyone in the population has an equal chance of being chosen, like drawing names\n",
        "from a hat. In non-random sampling, selection isn’t random, and bias might creep in, like only surveying\n",
        "people who are easy to reach.\n",
        "\n",
        "8. Define and give examples of qualitative and quantitative data?\n",
        "\n",
        "- Qualitative Data: Describes qualities, like eye color or types of cars.\n",
        "\n",
        "\n",
        "Example: Red, blue, and green are eye colors\n",
        "- Quantitative Data: Involves numbers, like height or age.\n",
        "\n",
        "Example: 5 feet 7 inches tall, 25 years old.\n",
        "\n",
        "\n",
        "9. What are the different types of data in statistics?\n",
        "\n",
        "Data can be:\n",
        "\n",
        "-  Nominal: Names or labels (e.g., colors of cars)\n",
        "- Ordinal: Ordered categories (e.g., small, medium, large sizes)\n",
        "- Interval: Numeric with no true zero (e.g., temperature in Celsius)\n",
        "- Ratio: Numeric with a true zero (e.g., weight in kilograms).\n",
        "\n",
        "\n",
        "10. Explain nominal, ordinal, interval, and ratio levels of measurement?\n",
        "\n",
        "-  Nominal: Names or labels (e.g., colors of cars)\n",
        "- Ordinal: Ordered categories (e.g., small, medium, large sizes)\n",
        "- Interval: Numeric with no true zero (e.g., temperature in Celsius)\n",
        "- Ratio: Numeric with a true zero (e.g., weight in kilograms).\n",
        "\n",
        "11. What is the measure of central tendency?\n",
        "\n",
        "It’s a way to find the “center” or typical value of a dataset. Common examples are the mean (average),\n",
        "median (middle value), and mode (most frequent value).\n",
        "\n",
        "\n",
        "12. Define mean, median, and mode?\n",
        "\n",
        "- Mean: Add all numbers and divide by how many there are.\n",
        "\n",
        "Example: The mean of 2, 4, and 6 is 4\n",
        "- Median: The middle value when data is ordered.\n",
        "\n",
        "Example: In 1, 3, and 5, the median is 3\n",
        "- Mode: The value that appears most often.\n",
        "\n",
        "Example: In 1, 2, 2, 3, the mode is 2.\n",
        "\n",
        "\n",
        "13. What is the significance of the measure of central tendency?\n",
        "\n",
        " It helps summarize a large dataset with a single value, making it easier to understand and compare different\n",
        "datasets.\n",
        "\n",
        "\n",
        "14. What is variance, and how is it calculated?\n",
        "\n",
        " Variance shows how spread out the numbers in a dataset are. To calculate it, you find the average of the\n",
        "squared differences from the mean.\n",
        "\n",
        "\n",
        "15. What is standard deviation, and why is it important?\n",
        "\n",
        "Standard deviation measures the average distance of data points from the mean. It’s important because it\n",
        "tells you how much variation exists in your data.\n",
        "\n",
        "16. Define and explain the term range in statistics?\n",
        "\n",
        " The range is the difference between the highest and lowest values in a dataset.\n",
        "\n",
        " For example, if the highest\n",
        "mark is 90 and the lowest is 50, the range is 40.\n",
        "\n",
        "\n",
        "17. What is the difference between variance and standard deviation?\n",
        "\n",
        " Variance is the average of the squared differences from the mean, while standard deviation is the square\n",
        "root of variance. Standard deviation is easier to interpret because it’s in the same units as the data.\n",
        "\n",
        "\n",
        "18. What is skewness in a dataset?\n",
        "\n",
        " Skewness measures how much a dataset is tilted to one side. A positive skew means a longer tail on the\n",
        "right, while a negative skew means a longer tail on the left.\n",
        "\n",
        "\n",
        "19. What does it mean if a dataset is positively or negatively skewed?\n",
        "\n",
        "- Positively Skewed: Most data points are on the lower side, with a tail on the higher side (e.g., income\n",
        "distribution):\n",
        "- Negatively Skewed: Most data points are on the higher side, with a tail on the lower side.\n",
        "\n",
        "\n",
        "20. Define and explain kurtosis?\n",
        "\n",
        " Kurtosis is about how “pointy” or “flat” a distribution is. High kurtosis means heavy tails and outliers, while low\n",
        "kurtosis indicates a flatter distribution.\n",
        "\n",
        "\n",
        "21. What is the purpose of covariance?\n",
        "\n",
        "Covariance shows how two variables change together. If they increase together, covariance is positive. If one\n",
        "increases while the other decreases, it’s negative.\n",
        "\n",
        "\n",
        "22. What does correlation measure in statistics?\n",
        "\n",
        " Correlation measures the strength and direction of the relationship between two variables. A correlation of 1\n",
        "means a perfect positive relationship, while -1 means a perfect negative relationship.\n",
        "\n",
        "\n",
        "23. What is the difference between covariance and correlation?\n",
        "\n",
        "Covariance tells you the direction of the relationship, but its value depends on the scale of the variables.\n",
        "Correlation standardizes this relationship, making it easier to interpret.\n",
        "\n",
        "\n",
        "24. What are some real-world applications of statistics?\n",
        "\n",
        " Statistics are used everywhere! In business, it’s used for sales forecasting. In healthcare, it’s used to study\n",
        "disease patterns. Even in sports, stats are used to analyze player performance."
      ],
      "metadata": {
        "id": "FVU2wDVfoWog"
      }
    },
    {
      "cell_type": "markdown",
      "source": [
        "# **Practical Questions**\n",
        "\n",
        "1. Calculate the Mean, Median, and Mode of a Dataset."
      ],
      "metadata": {
        "id": "hfdATU_koohi"
      }
    },
    {
      "cell_type": "code",
      "execution_count": 1,
      "metadata": {
        "id": "o7BH37q0k3qy",
        "colab": {
          "base_uri": "https://localhost:8080/"
        },
        "outputId": "13f7a775-62c9-4ff1-db5b-eccfa04dc3ea"
      },
      "outputs": [
        {
          "output_type": "stream",
          "name": "stdout",
          "text": [
            "Mean: 6.3, Median: 7.0, Mode: 7\n"
          ]
        }
      ],
      "source": [
        "import numpy as np\n",
        "from scipy import stats\n",
        "\n",
        "data = [4, 7, 2, 9, 7, 8, 10, 7, 6, 3]\n",
        "\n",
        "mean = np.mean(data)\n",
        "median = np.median(data)\n",
        "mode = stats.mode(data, keepdims=True)[0][0]\n",
        "\n",
        "print(f\"Mean: {mean}, Median: {median}, Mode: {mode}\")\n"
      ]
    },
    {
      "cell_type": "markdown",
      "source": [
        "2. Write a Python Program to Compute the Variance and Standard Deviation of a Dataset.\n"
      ],
      "metadata": {
        "id": "xjgEhvrLpGRm"
      }
    },
    {
      "cell_type": "code",
      "source": [
        "import numpy as np\n",
        "from scipy import stats\n",
        "\n",
        "data = [100, 200, 207, 309, 405, 502]\n",
        "\n",
        "print(\"Variance:\", np.var(data))\n",
        "\n",
        "print(\"Standard Deviation:\", np.std(data))"
      ],
      "metadata": {
        "colab": {
          "base_uri": "https://localhost:8080/"
        },
        "id": "ienTl6n3pCoS",
        "outputId": "600c3010-7e45-4601-c1e4-7a77bef7d455"
      },
      "execution_count": 2,
      "outputs": [
        {
          "output_type": "stream",
          "name": "stdout",
          "text": [
            "Variance: 18261.805555555555\n",
            "Standard Deviation: 135.1362481185398\n"
          ]
        }
      ]
    },
    {
      "cell_type": "markdown",
      "source": [
        "3. Create a Dataset and Classify it into Nominal, Ordinal, Interval, and Ratio Types."
      ],
      "metadata": {
        "id": "QIZ7kbZMpNmB"
      }
    },
    {
      "cell_type": "code",
      "source": [
        "import pandas as pd\n",
        "\n",
        "data = {\n",
        "    \"ID\": [101, 102, 103, 104],\n",
        "    \"Name\": [\"Alice\", \"Bob\", \"Charlie\", \"David\"],\n",
        "    \"Gender\": [\"Female\", \"Male\", \"Male\", \"Female\"],\n",
        "    \"Education_Level\": [\"High School\", \"Bachelor\", \"Master\", \"PhD\"],\n",
        "    \"Satisfaction_Level\": [1, 2, 4, 5],\n",
        "    \"Temperature_C\": [36.5, 37.0, 38.2, 36.8],\n",
        "    \"Income\": [25000, 50000, 75000, 100000],\n",
        "    \"Age\": [22, 25, 30, 40]\n",
        "}\n",
        "\n",
        "df = pd.DataFrame(data)\n",
        "\n",
        "classification = {\n",
        "    \"ID\": \"Not Classified\",\n",
        "    \"Name\": \"Nominal\",\n",
        "    \"Gender\": \"Nominal\",\n",
        "    \"Education_Level\": \"Ordinal\",\n",
        "    \"Satisfaction_Level\": \"Ordinal\",\n",
        "    \"Temperature_C\": \"Interval\",\n",
        "    \"Income\": \"Ratio\",\n",
        "    \"Age\": \"Ratio\"\n",
        "}\n",
        "\n",
        "print(df)\n",
        "print(\"\\nClassification of Variables:\")\n",
        "for column, dtype in classification.items():\n",
        "    print(f\"{column}: {dtype}\")\n",
        "\n"
      ],
      "metadata": {
        "colab": {
          "base_uri": "https://localhost:8080/"
        },
        "id": "_sOTZEsApK-q",
        "outputId": "93564690-3d62-483d-f94c-b67a861f9a62"
      },
      "execution_count": 8,
      "outputs": [
        {
          "output_type": "stream",
          "name": "stdout",
          "text": [
            "    ID     Name  Gender Education_Level  Satisfaction_Level  Temperature_C  \\\n",
            "0  101    Alice  Female     High School                   1           36.5   \n",
            "1  102      Bob    Male        Bachelor                   2           37.0   \n",
            "2  103  Charlie    Male          Master                   4           38.2   \n",
            "3  104    David  Female             PhD                   5           36.8   \n",
            "\n",
            "   Income  Age  \n",
            "0   25000   22  \n",
            "1   50000   25  \n",
            "2   75000   30  \n",
            "3  100000   40  \n",
            "\n",
            "Classification of Variables:\n",
            "ID: Not Classified\n",
            "Name: Nominal\n",
            "Gender: Nominal\n",
            "Education_Level: Ordinal\n",
            "Satisfaction_Level: Ordinal\n",
            "Temperature_C: Interval\n",
            "Income: Ratio\n",
            "Age: Ratio\n"
          ]
        }
      ]
    },
    {
      "cell_type": "markdown",
      "source": [
        "4. Implement Sampling Techniques like Random and Stratified Sampling."
      ],
      "metadata": {
        "id": "fk7OdCpTqDys"
      }
    },
    {
      "cell_type": "code",
      "source": [
        "# Random Sampling\n",
        "\n",
        "import random\n",
        "\n",
        "population = [1, 2, 3, 4, 5, 6, 7, 8, 9, 10]\n",
        "random_sample = random.sample(population, 4)\n",
        "print(\"Random Sample:\", random_sample)"
      ],
      "metadata": {
        "colab": {
          "base_uri": "https://localhost:8080/"
        },
        "id": "PwtqhpsspXnv",
        "outputId": "41aa1a01-206d-4a61-9888-774bc567cba4"
      },
      "execution_count": 5,
      "outputs": [
        {
          "output_type": "stream",
          "name": "stdout",
          "text": [
            "Random Sample: [3, 6, 1, 8]\n"
          ]
        }
      ]
    },
    {
      "cell_type": "code",
      "source": [
        "# Stratified Sampling\n",
        "\n",
        "import pandas as pd\n",
        "\n",
        "data = pd.DataFrame({\n",
        "    \"Category\": [\"A\", \"A\", \"B\", \"B\", \"C\", \"C\"],\n",
        "    \"Values\": [1, 2, 3, 4, 5, 6]\n",
        "})\n",
        "\n",
        "stratified_sample = data.groupby(\"Category\", group_keys=False).apply(lambda x: x.sample(1))\n",
        "print(stratified_sample)"
      ],
      "metadata": {
        "colab": {
          "base_uri": "https://localhost:8080/"
        },
        "id": "c_EN19EoqHi8",
        "outputId": "e4499e90-e217-4011-ee22-dd673933ee78"
      },
      "execution_count": 6,
      "outputs": [
        {
          "output_type": "stream",
          "name": "stdout",
          "text": [
            "  Category  Values\n",
            "0        A       1\n",
            "2        B       3\n",
            "4        C       5\n"
          ]
        },
        {
          "output_type": "stream",
          "name": "stderr",
          "text": [
            "<ipython-input-6-b2a7e2b5f5df>:10: DeprecationWarning: DataFrameGroupBy.apply operated on the grouping columns. This behavior is deprecated, and in a future version of pandas the grouping columns will be excluded from the operation. Either pass `include_groups=False` to exclude the groupings or explicitly select the grouping columns after groupby to silence this warning.\n",
            "  stratified_sample = data.groupby(\"Category\", group_keys=False).apply(lambda x: x.sample(1))\n"
          ]
        }
      ]
    },
    {
      "cell_type": "markdown",
      "source": [
        "5. Write a Python Function to Calculate the Range of a Dataset."
      ],
      "metadata": {
        "id": "HLV6hZDTqK1j"
      }
    },
    {
      "cell_type": "code",
      "source": [
        "def calculate_range(data):\n",
        "    \"\"\"\n",
        "    Function to calculate the range of a dataset.\n",
        "\n",
        "    Parameters:\n",
        "        data (list): A list of numerical values.\n",
        "\n",
        "    Returns:\n",
        "        int/float: The range of the dataset.\n",
        "    \"\"\"\n",
        "    if not data:\n",
        "        return None\n",
        "\n",
        "    return max(data) - min(data)\n",
        "\n",
        "\n",
        "data = [10, 20, 30, 40, 50]\n",
        "\n",
        "\n",
        "range_value = calculate_range(data)\n",
        "print(\"Range of the dataset:\", range_value)"
      ],
      "metadata": {
        "colab": {
          "base_uri": "https://localhost:8080/"
        },
        "id": "yte41MTYqJ2t",
        "outputId": "2ceb9dad-0a5e-4125-8fba-7c0bced75faa"
      },
      "execution_count": 7,
      "outputs": [
        {
          "output_type": "stream",
          "name": "stdout",
          "text": [
            "Range of the dataset: 40\n"
          ]
        }
      ]
    },
    {
      "cell_type": "markdown",
      "source": [
        "6. Create a Dataset and Plot its Histogram to Visualize Skewness."
      ],
      "metadata": {
        "id": "IbWSJ0Rdqcmg"
      }
    },
    {
      "cell_type": "code",
      "source": [
        "import matplotlib.pyplot as plt\n",
        "\n",
        "data = [1, 2, 2, 3, 3, 3, 4, 4, 5, 6, 7, 8, 20]\n",
        "\n",
        "plt.hist(data, bins=6, edgecolor=\"black\")\n",
        "plt.xlabel(\"Value\")\n",
        "plt.ylabel(\"Frequency\")\n",
        "plt.title(\"Histogram\")\n",
        "plt.show()\n",
        "\n"
      ],
      "metadata": {
        "colab": {
          "base_uri": "https://localhost:8080/",
          "height": 472
        },
        "id": "bLYBT3wZqSre",
        "outputId": "c514c3b1-c425-4b1e-abb2-23993f010106"
      },
      "execution_count": 10,
      "outputs": [
        {
          "output_type": "display_data",
          "data": {
            "text/plain": [
              "<Figure size 640x480 with 1 Axes>"
            ],
            "image/png": "[encoded data removed]"
          },
          "metadata": {}
        }
      ]
    },
    {
      "cell_type": "markdown",
      "source": [
        "7. Calculate Skewness and Kurtosis of a Dataset using Python."
      ],
      "metadata": {
        "id": "jjIU39WMqxtm"
      }
    },
    {
      "cell_type": "code",
      "source": [
        "from scipy.stats import skew, kurtosis\n",
        "\n",
        "data = [1, 2, 2, 3, 3, 3, 4, 4, 5, 6, 7, 8, 20]\n",
        "\n",
        "print(\"Skewness:\", skew(data))\n",
        "print(\"Kurtosis:\", kurtosis(data))\n"
      ],
      "metadata": {
        "colab": {
          "base_uri": "https://localhost:8080/"
        },
        "id": "B78RPN0xqgA8",
        "outputId": "23950bae-910f-4dac-a31f-66b797429349"
      },
      "execution_count": 11,
      "outputs": [
        {
          "output_type": "stream",
          "name": "stdout",
          "text": [
            "Skewness: 2.283843204089483\n",
            "Kurtosis: 4.654674660535367\n"
          ]
        }
      ]
    },
    {
      "cell_type": "markdown",
      "source": [
        "8. Generate a Dataset and Demonstrate Positive and Negative Skewness."
      ],
      "metadata": {
        "id": "VkGlPihiq3s9"
      }
    },
    {
      "cell_type": "code",
      "source": [
        "#positive skewness\n",
        "positively_skewed = [1, 2, 2, 3, 3, 4, 10, 20]\n",
        "print(\"Positive Skewness:\", skew(positively_skewed))"
      ],
      "metadata": {
        "colab": {
          "base_uri": "https://localhost:8080/"
        },
        "id": "P6pXKFfGq0zx",
        "outputId": "39f25f5d-9e8f-47f9-d227-c284c4184c41"
      },
      "execution_count": 12,
      "outputs": [
        {
          "output_type": "stream",
          "name": "stdout",
          "text": [
            "Positive Skewness: 1.6158675646743965\n"
          ]
        }
      ]
    },
    {
      "cell_type": "code",
      "source": [
        "# Negative Skewness\n",
        "negatively_skewed = [10, 20, 4, 3, 3, 2, 2, 1]\n",
        "print(\"Negative Skewness:\", skew(negatively_skewed))"
      ],
      "metadata": {
        "colab": {
          "base_uri": "https://localhost:8080/"
        },
        "id": "pQuHhvK3q6Vc",
        "outputId": "cbc7e5ae-a5be-495f-f3dd-12e374c752c8"
      },
      "execution_count": 13,
      "outputs": [
        {
          "output_type": "stream",
          "name": "stdout",
          "text": [
            "Negative Skewness: 1.6158675646743965\n"
          ]
        }
      ]
    },
    {
      "cell_type": "markdown",
      "source": [
        "9. Write a Python Script to Calculate Covariance Between Two Datasets."
      ],
      "metadata": {
        "id": "1aB-TfsNrFnV"
      }
    },
    {
      "cell_type": "code",
      "source": [
        "x = [1, 2, 3, 4, 5]\n",
        "y = [2, 4, 6, 8, 10]\n",
        "\n",
        "cov_matrix = np.cov(x, y)\n",
        "print(\"Covariance:\", cov_matrix[0, 1])"
      ],
      "metadata": {
        "colab": {
          "base_uri": "https://localhost:8080/"
        },
        "id": "EQruqieqrAJt",
        "outputId": "33d70844-7c0f-4486-e1eb-4e0844ff8289"
      },
      "execution_count": 14,
      "outputs": [
        {
          "output_type": "stream",
          "name": "stdout",
          "text": [
            "Covariance: 5.0\n"
          ]
        }
      ]
    },
    {
      "cell_type": "markdown",
      "source": [
        "10. Write a Python Script to Calculate the Correlation Coefficient Between Two Datasets."
      ],
      "metadata": {
        "id": "aA-qdrH0rTLq"
      }
    },
    {
      "cell_type": "code",
      "source": [
        "correlation_coefficient = np.corrcoef(x, y)[0, 1]\n",
        "print(\"Correlation Coefficient:\", correlation_coefficient)\n"
      ],
      "metadata": {
        "colab": {
          "base_uri": "https://localhost:8080/"
        },
        "id": "yXQge_KbrPLa",
        "outputId": "c29e0cac-0814-40cd-c227-11cd8839b46e"
      },
      "execution_count": 15,
      "outputs": [
        {
          "output_type": "stream",
          "name": "stdout",
          "text": [
            "Correlation Coefficient: 0.9999999999999999\n"
          ]
        }
      ]
    },
    {
      "cell_type": "markdown",
      "source": [
        "11. Create a Scatter Plot to Visualize the Relationship Between Two Variables."
      ],
      "metadata": {
        "id": "QTKA2-rgrYUr"
      }
    },
    {
      "cell_type": "code",
      "source": [
        "import matplotlib.pyplot as plt\n",
        "\n",
        "x = [2, 4, 8, 10]\n",
        "y = [1, 3, 7, 9]\n",
        "\n",
        "plt.scatter(x, y)\n",
        "plt.xlabel(\"X-axis\")\n",
        "plt.ylabel(\"Y-axis\")\n",
        "plt.title(\"Scatter Plot\")\n",
        "plt.show()\n"
      ],
      "metadata": {
        "colab": {
          "base_uri": "https://localhost:8080/",
          "height": 472
        },
        "id": "3zZ-vYu0rV9j",
        "outputId": "490e2697-f110-4e48-dbcd-5cb967ca56b4"
      },
      "execution_count": 16,
      "outputs": [
        {
          "output_type": "display_data",
          "data": {
            "text/plain": [
              "<Figure size 640x480 with 1 Axes>"
            ],
            "image/png": "[encoded data removed]"
          },
          "metadata": {}
        }
      ]
    },
    {
      "cell_type": "markdown",
      "source": [
        "12. Implement and Compare Simple Random Sampling and Systematic Sampling"
      ],
      "metadata": {
        "id": "eFnXTBTcrfKp"
      }
    },
    {
      "cell_type": "code",
      "source": [
        "# Simple Random Sampling\n",
        "\n",
        "random_sample = random.sample(population, 4)\n",
        "print(\"Simple Random Sample:\", random_sample)\n"
      ],
      "metadata": {
        "colab": {
          "base_uri": "https://localhost:8080/"
        },
        "id": "ZExNO6-PrbWd",
        "outputId": "9156fd49-8a36-40c9-f1ca-ada699a29978"
      },
      "execution_count": 17,
      "outputs": [
        {
          "output_type": "stream",
          "name": "stdout",
          "text": [
            "Simple Random Sample: [3, 1, 5, 6]\n"
          ]
        }
      ]
    },
    {
      "cell_type": "code",
      "source": [
        "# Systematic Sampling\n",
        "\n",
        "def systematic_sampling(population, step):\n",
        "    return [population[i] for i in range(0, len(population), step)]\n",
        "\n",
        "print(\"Systematic Sample:\", systematic_sampling(population, 4))"
      ],
      "metadata": {
        "colab": {
          "base_uri": "https://localhost:8080/"
        },
        "id": "b4kWRqNMrhy3",
        "outputId": "a3c0d3fa-6dd0-477e-9234-c8bfc1bbe263"
      },
      "execution_count": 18,
      "outputs": [
        {
          "output_type": "stream",
          "name": "stdout",
          "text": [
            "Systematic Sample: [1, 5, 9]\n"
          ]
        }
      ]
    },
    {
      "cell_type": "markdown",
      "source": [
        "13. Calculate the Mean, Median, and Mode of Grouped Data."
      ],
      "metadata": {
        "id": "fIB0mFbarkJw"
      }
    },
    {
      "cell_type": "code",
      "source": [
        "grouped_data = {\n",
        "    \"Intervals\": [\"0-10\", \"10-20\", \"20-30\"],\n",
        "    \"Frequency\": [5, 15, 10]\n",
        "}\n",
        "\n",
        "mean_grouped = (5*5 + 15*15 + 10*25) / (5+15+10)\n",
        "print(\"Grouped Mean:\", mean_grouped)\n"
      ],
      "metadata": {
        "colab": {
          "base_uri": "https://localhost:8080/"
        },
        "id": "GBltSwpcrjlP",
        "outputId": "86c5aca6-473f-49a5-c1f5-f0d8bd176dd7"
      },
      "execution_count": 19,
      "outputs": [
        {
          "output_type": "stream",
          "name": "stdout",
          "text": [
            "Grouped Mean: 16.666666666666668\n"
          ]
        }
      ]
    },
    {
      "cell_type": "markdown",
      "source": [
        "14. Simulate Data Using Python and Calculate Its Central Tendency and Dispersion."
      ],
      "metadata": {
        "id": "__EUlObTroBZ"
      }
    },
    {
      "cell_type": "code",
      "source": [
        "simulated_data = np.random.randint(1, 100, 20)\n",
        "\n",
        "print(\"Simulated Data:\", simulated_data)\n",
        "print(\"Mean:\", np.mean(simulated_data))\n",
        "print(\"Median:\", np.median(simulated_data))\n",
        "print(\"Standard Deviation:\", np.std(simulated_data))\n"
      ],
      "metadata": {
        "colab": {
          "base_uri": "https://localhost:8080/"
        },
        "id": "M3Xzer0_rnc4",
        "outputId": "d3cdb59a-3f1a-4995-d7e7-01320dfd8d3e"
      },
      "execution_count": 20,
      "outputs": [
        {
          "output_type": "stream",
          "name": "stdout",
          "text": [
            "Simulated Data: [55 65 33 41 90 49 33 89 77 32 11 91 19 97  9  4 79 40  1 38]\n",
            "Mean: 47.65\n",
            "Median: 40.5\n",
            "Standard Deviation: 30.519297174083153\n"
          ]
        }
      ]
    },
    {
      "cell_type": "markdown",
      "source": [
        "15. Use NumPy or Pandas to Summarize a Dataset’s Descriptive Statistics."
      ],
      "metadata": {
        "id": "e5Aculytrv0G"
      }
    },
    {
      "cell_type": "code",
      "source": [
        "df = pd.DataFrame({'Data': simulated_data})\n",
        "print(df.describe())"
      ],
      "metadata": {
        "colab": {
          "base_uri": "https://localhost:8080/"
        },
        "id": "nH7NnA_artNa",
        "outputId": "b7990510-3f01-46e8-b9eb-1f5bde4577b9"
      },
      "execution_count": 21,
      "outputs": [
        {
          "output_type": "stream",
          "name": "stdout",
          "text": [
            "            Data\n",
            "count  20.000000\n",
            "mean   47.650000\n",
            "std    31.312138\n",
            "min     1.000000\n",
            "25%    28.750000\n",
            "50%    40.500000\n",
            "75%    77.500000\n",
            "max    97.000000\n"
          ]
        }
      ]
    },
    {
      "cell_type": "markdown",
      "source": [
        "16. Plot a Boxplot to Understand the Spread and Identify Outliers."
      ],
      "metadata": {
        "id": "3B8X-txVr0AQ"
      }
    },
    {
      "cell_type": "code",
      "source": [
        "import numpy as np\n",
        "import seaborn as sns\n",
        "import matplotlib.pyplot as plt\n",
        "\n",
        "simulated_data = np.random.randint(1, 100, 20)\n",
        "\n",
        "\n",
        "sns.boxplot(data=simulated_data)\n",
        "\n",
        "\n",
        "plt.title(\"Boxplot of Simulated Data\")\n",
        "plt.show()\n"
      ],
      "metadata": {
        "colab": {
          "base_uri": "https://localhost:8080/",
          "height": 433
        },
        "id": "cUEQoiuqrxnj",
        "outputId": "38dafee6-3c85-44f2-9174-45a930741d64"
      },
      "execution_count": 22,
      "outputs": [
        {
          "output_type": "display_data",
          "data": {
            "text/plain": [
              "<Figure size 640x480 with 1 Axes>"
            ],
            "image/png": "[encoded data removed]"
          },
          "metadata": {}
        }
      ]
    },
    {
      "cell_type": "markdown",
      "source": [
        "17. Calculate the Interquartile Range (IQR) of a Dataset."
      ],
      "metadata": {
        "id": "gJIzkxRgsAOs"
      }
    },
    {
      "cell_type": "code",
      "source": [
        "Q1 = np.percentile(data, 25)\n",
        "Q3 = np.percentile(data, 75)\n",
        "IQR = Q3 - Q1\n",
        "\n",
        "print(\"Interquartile Range (IQR):\", IQR)\n"
      ],
      "metadata": {
        "colab": {
          "base_uri": "https://localhost:8080/"
        },
        "id": "f7Ub4Wbur8jG",
        "outputId": "d76ff594-046b-4f1c-cb76-9795ada51ed6"
      },
      "execution_count": 23,
      "outputs": [
        {
          "output_type": "stream",
          "name": "stdout",
          "text": [
            "Interquartile Range (IQR): 3.0\n"
          ]
        }
      ]
    },
    {
      "cell_type": "markdown",
      "source": [
        "18. Implement Z-score Normalization and Explain Its Significance."
      ],
      "metadata": {
        "id": "tv_j9-kysCq5"
      }
    },
    {
      "cell_type": "code",
      "source": [
        "from scipy.stats import zscore\n",
        "\n",
        "z_scores = zscore(data)\n",
        "print(\"Z-scores:\", z_scores)\n"
      ],
      "metadata": {
        "colab": {
          "base_uri": "https://localhost:8080/"
        },
        "id": "1pvdD-tqsCDZ",
        "outputId": "50b78050-2f51-4f31-cb7d-46683d17ed00"
      },
      "execution_count": 24,
      "outputs": [
        {
          "output_type": "stream",
          "name": "stdout",
          "text": [
            "Z-scores: [-0.90151821 -0.68843209 -0.68843209 -0.47534597 -0.47534597 -0.47534597\n",
            " -0.26225984 -0.26225984 -0.04917372  0.1639124   0.37699853  0.59008465\n",
            "  3.14711813]\n"
          ]
        }
      ]
    },
    {
      "cell_type": "markdown",
      "source": [
        "Significance: Z-score normalizes the data, making it easier to compare different datasets."
      ],
      "metadata": {
        "id": "iQZiNFyosOMs"
      }
    },
    {
      "cell_type": "markdown",
      "source": [
        "19. Compare Two Datasets Using Their Standard Deviations."
      ],
      "metadata": {
        "id": "xtwKPaX_sQXz"
      }
    },
    {
      "cell_type": "code",
      "source": [
        "dataset1 = np.random.randint(1, 100, 10)\n",
        "dataset2 = np.random.randint(1, 100, 10)\n",
        "\n",
        "print(\"Standard Deviation of Dataset 1:\", np.std(dataset1))\n",
        "print(\"Standard Deviation of Dataset 2:\", np.std(dataset2))\n"
      ],
      "metadata": {
        "colab": {
          "base_uri": "https://localhost:8080/"
        },
        "id": "ygZfKyErsLaM",
        "outputId": "76b83b70-7434-444f-d7ba-1f072e5bb20f"
      },
      "execution_count": 25,
      "outputs": [
        {
          "output_type": "stream",
          "name": "stdout",
          "text": [
            "Standard Deviation of Dataset 1: 28.00285699709942\n",
            "Standard Deviation of Dataset 2: 25.109559932424144\n"
          ]
        }
      ]
    },
    {
      "cell_type": "markdown",
      "source": [
        "20. Write a Python Program to Visualize Covariance Using a Heatmap."
      ],
      "metadata": {
        "id": "uDkRhfidsV92"
      }
    },
    {
      "cell_type": "code",
      "source": [
        "data = {\n",
        "    \"Age\": [22, 25, 30, 40, 35, 28, 33, 38],\n",
        "    \"Income\": [25000, 50000, 75000, 100000, 85000, 60000, 72000, 95000],\n",
        "    \"Expenses\": [12000, 20000, 30000, 40000, 35000, 25000, 32000, 38000]\n",
        "}\n",
        "\n",
        "df = pd.DataFrame(data)\n",
        "\n",
        "cov_matrix = df.cov()\n",
        "\n",
        "plt.figure(figsize=(6, 4))\n",
        "sns.heatmap(cov_matrix, annot=True, cmap=\"coolwarm\", fmt=\".2f\")\n",
        "plt.title(\"Covariance Matrix Heatmap\")\n",
        "plt.show()"
      ],
      "metadata": {
        "colab": {
          "base_uri": "https://localhost:8080/",
          "height": 391
        },
        "id": "fsS3ZAp6sTtd",
        "outputId": "22fb4aab-8bbe-4176-883e-c8bea6d5961f"
      },
      "execution_count": 27,
      "outputs": [
        {
          "output_type": "display_data",
          "data": {
            "text/plain": [
              "<Figure size 600x400 with 2 Axes>"
            ],
            "image/png": "[encoded data removed]"
          },
          "metadata": {}
        }
      ]
    },
    {
      "cell_type": "markdown",
      "source": [
        "21. Use Seaborn to Create a Correlation Matrix for a Dataset."
      ],
      "metadata": {
        "id": "aDASxQF_srg0"
      }
    },
    {
      "cell_type": "code",
      "source": [
        "import pandas as pd\n",
        "import seaborn as sns\n",
        "import matplotlib.pyplot as plt\n",
        "\n",
        "data = {\n",
        "    \"Age\": [22, 25, 30, 40, 35, 28, 33, 38],\n",
        "    \"Income\": [25000, 50000, 75000, 100000, 85000, 60000, 72000, 95000],\n",
        "    \"Expenses\": [12000, 20000, 30000, 40000, 35000, 25000, 32000, 38000]\n",
        "}\n",
        "\n",
        "df = pd.DataFrame(data)\n",
        "\n",
        "corr_matrix = df.corr()\n",
        "\n",
        "plt.figure(figsize=(6, 4))\n",
        "sns.heatmap(corr_matrix, annot=True, cmap=\"coolwarm\", fmt=\".2f\")\n",
        "plt.title(\"Correlation Matrix Heatmap\")\n",
        "plt.show()\n"
      ],
      "metadata": {
        "colab": {
          "base_uri": "https://localhost:8080/",
          "height": 391
        },
        "id": "a_1rconwsYYe",
        "outputId": "aff985f7-e8d3-4e8c-c162-b452f05e1c69"
      },
      "execution_count": 28,
      "outputs": [
        {
          "output_type": "display_data",
          "data": {
            "text/plain": [
              "<Figure size 600x400 with 2 Axes>"
            ],
            "image/png": "[encoded data removed]"
          },
          "metadata": {}
        }
      ]
    },
    {
      "cell_type": "markdown",
      "source": [
        "22. Generate a dataset and implement both variance and standard deviation computations."
      ],
      "metadata": {
        "id": "da687sUls4EV"
      }
    },
    {
      "cell_type": "code",
      "source": [
        "import numpy as np\n",
        "\n",
        "# Step 1: Generate a random dataset\n",
        "dataset = np.random.randint(1, 100, 20)  # 20 random numbers between 1 and 100\n",
        "print(\"Dataset:\", dataset)\n",
        "\n",
        "# Step 2: Compute variance and standard deviation\n",
        "variance = np.var(dataset)  # Population variance\n",
        "std_dev = np.std(dataset)  # Population standard deviation\n",
        "\n",
        "# Display the results\n",
        "print(\"Variance of the dataset:\", variance)\n",
        "print(\"Standard Deviation of the dataset:\", std_dev)"
      ],
      "metadata": {
        "colab": {
          "base_uri": "https://localhost:8080/"
        },
        "id": "yr1PKff-s3MR",
        "outputId": "181a7568-9ff5-4ee2-94dc-fcf5e5936f82"
      },
      "execution_count": 29,
      "outputs": [
        {
          "output_type": "stream",
          "name": "stdout",
          "text": [
            "Dataset: [51 84 93 40 55 88 94 77 91 80 63 14 57 79 32 50 34  3 28 38]\n",
            "Variance of the dataset: 722.6474999999999\n",
            "Standard Deviation of the dataset: 26.882103712321324\n"
          ]
        }
      ]
    },
    {
      "cell_type": "markdown",
      "source": [
        "23. Visualize Skewness and Kurtosis Using Matplotlib or Seaborn."
      ],
      "metadata": {
        "id": "3yGsMVcdtCV-"
      }
    },
    {
      "cell_type": "code",
      "source": [
        "data = np.random.normal(0, 1, 1000)\n",
        "df = pd.DataFrame({\"Data\": data})\n",
        "\n",
        "plt.figure(figsize=(8, 5))\n",
        "sns.histplot(df[\"Data\"], bins=30, kde=True, color=\"skyblue\")\n",
        "plt.title(f\"Skewness: {skew(df['Data']):.2f}, Kurtosis: {kurtosis(df['Data']):.2f}\")\n",
        "plt.xlabel(\"Value\")\n",
        "plt.ylabel(\"Frequency\")\n",
        "plt.show()"
      ],
      "metadata": {
        "colab": {
          "base_uri": "https://localhost:8080/",
          "height": 487
        },
        "id": "5nL-S5rvs9Fi",
        "outputId": "8c33b8ac-2bdb-462e-e59c-f19c72ef88f7"
      },
      "execution_count": 31,
      "outputs": [
        {
          "output_type": "display_data",
          "data": {
            "text/plain": [
              "<Figure size 800x500 with 1 Axes>"
            ],
            "image/png": "[encoded data removed]"
          },
          "metadata": {}
        }
      ]
    },
    {
      "cell_type": "markdown",
      "source": [
        "24. Implement the Pearson and Spearman Correlation Coefficients for a Dataset."
      ],
      "metadata": {
        "id": "-hEJmDV7tS4R"
      }
    },
    {
      "cell_type": "code",
      "source": [
        "from scipy.stats import pearsonr, spearmanr\n",
        "\n",
        "print(\"Pearson Correlation:\", pearsonr(x, y)[0])\n",
        "print(\"Spearman Correlation:\", spearmanr(x, y)[0])\n"
      ],
      "metadata": {
        "colab": {
          "base_uri": "https://localhost:8080/"
        },
        "id": "rsyhLsiotFo0",
        "outputId": "a4a1c8a8-a73c-4740-9634-c4d03fd36987"
      },
      "execution_count": 32,
      "outputs": [
        {
          "output_type": "stream",
          "name": "stdout",
          "text": [
            "Pearson Correlation: 1.0\n",
            "Spearman Correlation: 1.0\n"
          ]
        }
      ]
    },
    {
      "cell_type": "markdown",
      "source": [
        "#THANK YOU"
      ],
      "metadata": {
        "id": "3wXWfAkDtV4u"
      }
    },
    {
      "cell_type": "code",
      "source": [],
      "metadata": {
        "id": "k4y_GneKtVKB"
      },
      "execution_count": null,
      "outputs": []
    }
  ]
}